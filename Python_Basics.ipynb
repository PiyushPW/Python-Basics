{
  "nbformat": 4,
  "nbformat_minor": 0,
  "metadata": {
    "colab": {
      "provenance": []
    },
    "kernelspec": {
      "name": "python3",
      "display_name": "Python 3"
    },
    "language_info": {
      "name": "python"
    }
  },
  "cells": [
    {
      "cell_type": "markdown",
      "source": [
        "#Python Basics\n"
      ],
      "metadata": {
        "id": "B4393ek9cpBw"
      }
    },
    {
      "cell_type": "markdown",
      "source": [
        "1.  What is Python, and why is it popular?\n",
        "     - Python is one of the easiest yet most useful programming languages and is widely used in the software industry\n",
        "     -And it is popular because:-Widely used in the industry , A lots of libraries , Easy to learn and read.\n",
        "\n",
        "2.  What is an interpreter in Python?\n",
        "     - The Python interpreter is a crucial component that allows Python code to be executed. It translates the high-level Python code into a form that the computer's processor can understand and execute.\n",
        "\n",
        "3.  What are pre-defined keywords in Python\n",
        "     - In Python, predefined keywords are reserved words that have special meaning and cannot be used as identifiers e.g., variable names, function names.\n",
        "     - These keywords are fundamental to the language's syntax and are used to define the structure and flow of Python programs.\n",
        "\n",
        "4.  Can keywords be used as variable names?\n",
        "     - The keywords cannot be used as variable.\n",
        "\n",
        "5.   What is mutability in Python?\n",
        "     - In Python, lists are mutable objects. This means that once a list is created, its elements can be modified, added, or removed.\n",
        "\n",
        "6.  Why are lists mutable, but tuples are immutable?\n",
        "     -  Tuples are immutable, meaning that once a tuple is created, its elements cannot be changed, added, or removed.\n",
        "\n",
        "7. What is the difference between “==” and “is” operators in Python?       \n",
        "    -  The \"is\" and \"==\"operators are used for comparison, but they serve different purposes and behave differently.\n",
        "    - The == operator is used to compare the values of two objects. It checks whether the values of the objects are equal.\n",
        "    - The is operator is used to compare the identity of two objects. It checks whether the two variables point to the same object in memory.\n",
        "\n",
        "8.  What are logical operators in Python?\n",
        "\n",
        "    -Python logical operators are used to combine conditional statements, allowing you to perform operations based on multiple condition e.g., And,Or.\n",
        "\n",
        "9. What is type casting in Python?\n",
        "    -  Typecasting, also known as type conversion, is the process of converting a variable from one data type to another. Python supports both implicit and explicit typecasting.  \n",
        "\n",
        "10.  What is the difference between implicit and explicit type casting?\n",
        "\n",
        "    -In implicit type casting, the programming language automatically converts data from one type to another if needed.\n",
        "\n",
        "    -Explicit type casting, also known as type conversion or type coercion, occurs when the programmer explicitly converts a value from one data type to another.\n",
        "\n",
        "11.  What is the purpose of conditional statements in Python?\n",
        "    - Conditional statements in Python allow you to execute specific blocks of code based on certain conditions. These statements are fundamental for controlling the flow of a program and making decisions within the code.\n",
        "\n",
        "12.  How does the elif statement work?\n",
        "    - It can be used between an if and an else statement. If the initial if condition is False, Python will check the elif condition. If the elif condition is also False, it will move on to the next elif or the final else block\n",
        "\n",
        "13. What is the difference between for and while loops?\n",
        "    - A for loop is used when you know in advance how many times you want to execute the block of code. It iterates over a sequence (e.g., a list, tuple, string, or range) and executes the block of code for each item in the sequence.\n",
        "    -A while loop is used when you don’t know in advance how many times you want to execute the block of code. It continues to execute as long as the specified condition is true.\n",
        "\n",
        "14. Describe a scenario where a while loop is more suitable than a for loop.\n",
        "    -  If i want to achieve the same in for loop i have to assign the value of counter to another variable.\n",
        "\n",
        "    "
      ],
      "metadata": {
        "id": "kCZXC5r6cwiJ"
      }
    },
    {
      "cell_type": "code",
      "source": [
        "# question 1\n",
        "print(\"Hello World\")"
      ],
      "metadata": {
        "colab": {
          "base_uri": "https://localhost:8080/"
        },
        "id": "Ri8VyT-AkdbE",
        "outputId": "14e7e4df-6475-4366-fb3c-86aeafdedf8e"
      },
      "execution_count": null,
      "outputs": [
        {
          "output_type": "stream",
          "name": "stdout",
          "text": [
            "Hello World\n"
          ]
        }
      ]
    },
    {
      "cell_type": "code",
      "source": [
        "#question 2\n",
        "Name = \"Piyush Singh Thakur\"\n",
        "Age = 15\n",
        "\n",
        "print(\"Name:\", Name )\n",
        "print(\"Age:\", Age)"
      ],
      "metadata": {
        "colab": {
          "base_uri": "https://localhost:8080/"
        },
        "id": "qAVXhijUktVd",
        "outputId": "3aed8aea-0997-41b1-e8e4-9908900738ac"
      },
      "execution_count": 4,
      "outputs": [
        {
          "output_type": "stream",
          "name": "stdout",
          "text": [
            "Name: Piyush Singh Thakur\n",
            "Age: 15\n"
          ]
        }
      ]
    },
    {
      "cell_type": "code",
      "source": [
        "#question 3\n",
        "\n",
        "import keyword\n",
        "\n",
        "# Get the list of all Python keywords\n",
        "keywords = keyword.kwlist\n",
        "\n",
        "# Print each keyword\n",
        "for kw in keywords:\n",
        "    print(kw)\n"
      ],
      "metadata": {
        "colab": {
          "base_uri": "https://localhost:8080/"
        },
        "id": "QuSuS6bHp658",
        "outputId": "5299ac61-74f5-4a4d-b382-e90b5919f824"
      },
      "execution_count": 6,
      "outputs": [
        {
          "output_type": "stream",
          "name": "stdout",
          "text": [
            "False\n",
            "None\n",
            "True\n",
            "and\n",
            "as\n",
            "assert\n",
            "async\n",
            "await\n",
            "break\n",
            "class\n",
            "continue\n",
            "def\n",
            "del\n",
            "elif\n",
            "else\n",
            "except\n",
            "finally\n",
            "for\n",
            "from\n",
            "global\n",
            "if\n",
            "import\n",
            "in\n",
            "is\n",
            "lambda\n",
            "nonlocal\n",
            "not\n",
            "or\n",
            "pass\n",
            "raise\n",
            "return\n",
            "try\n",
            "while\n",
            "with\n",
            "yield\n"
          ]
        }
      ]
    },
    {
      "cell_type": "code",
      "source": [
        "#question 4\n",
        "import keyword\n",
        "\n",
        "s = 'for'\n",
        "\n",
        "# Check if it's a Python keyword\n",
        "if keyword.iskeyword(s):\n",
        "    print(f\"'{s}' is a Python keyword.\")\n",
        "else:\n",
        "    print(f\"'{s}' is not a Python keyword.\")"
      ],
      "metadata": {
        "colab": {
          "base_uri": "https://localhost:8080/"
        },
        "id": "z0V11TL7qUfq",
        "outputId": "50b7491f-9597-4433-d238-fe0dcf43eedd"
      },
      "execution_count": 7,
      "outputs": [
        {
          "output_type": "stream",
          "name": "stdout",
          "text": [
            "'for' is a Python keyword.\n"
          ]
        }
      ]
    },
    {
      "cell_type": "code",
      "source": [
        "#question 5\n",
        "a = [1,2,3,4,5]\n",
        "a"
      ],
      "metadata": {
        "colab": {
          "base_uri": "https://localhost:8080/"
        },
        "id": "Z2lcn4WXtdOe",
        "outputId": "b5fa9f5e-43ff-4fea-e682-7b0d09bc3939"
      },
      "execution_count": 23,
      "outputs": [
        {
          "output_type": "execute_result",
          "data": {
            "text/plain": [
              "[1, 2, 3, 4, 5]"
            ]
          },
          "metadata": {},
          "execution_count": 23
        }
      ]
    },
    {
      "cell_type": "code",
      "source": [
        "type(a)"
      ],
      "metadata": {
        "colab": {
          "base_uri": "https://localhost:8080/"
        },
        "id": "5mx_IgNJtiGp",
        "outputId": "b5e4aaf8-31a0-400c-a53c-800b16b778fe"
      },
      "execution_count": 24,
      "outputs": [
        {
          "output_type": "execute_result",
          "data": {
            "text/plain": [
              "list"
            ]
          },
          "metadata": {},
          "execution_count": 24
        }
      ]
    },
    {
      "cell_type": "code",
      "source": [
        "a[0] = 100\n",
        "a\n"
      ],
      "metadata": {
        "colab": {
          "base_uri": "https://localhost:8080/"
        },
        "id": "EVAqRcUPtxEu",
        "outputId": "6797554e-6335-41e1-a628-da2afdf5032f"
      },
      "execution_count": 27,
      "outputs": [
        {
          "output_type": "execute_result",
          "data": {
            "text/plain": [
              "[100, 2, 3, 4, 5]"
            ]
          },
          "metadata": {},
          "execution_count": 27
        }
      ]
    },
    {
      "cell_type": "code",
      "source": [
        "b = (1,2,\"Ram\", \"ramesh\")\n",
        "b"
      ],
      "metadata": {
        "colab": {
          "base_uri": "https://localhost:8080/"
        },
        "id": "aJmq_6qhuLgs",
        "outputId": "a51dee2e-a5bd-4420-89ff-82a5a92557dc"
      },
      "execution_count": 39,
      "outputs": [
        {
          "output_type": "execute_result",
          "data": {
            "text/plain": [
              "(1, 2, 'Ram', 'ramesh')"
            ]
          },
          "metadata": {},
          "execution_count": 39
        }
      ]
    },
    {
      "cell_type": "code",
      "source": [
        "type(b)"
      ],
      "metadata": {
        "colab": {
          "base_uri": "https://localhost:8080/"
        },
        "id": "kQd0kid9uSbP",
        "outputId": "1b4aa757-174b-428b-8641-bc2b6c1aea6b"
      },
      "execution_count": 40,
      "outputs": [
        {
          "output_type": "execute_result",
          "data": {
            "text/plain": [
              "tuple"
            ]
          },
          "metadata": {},
          "execution_count": 40
        }
      ]
    },
    {
      "cell_type": "code",
      "source": [
        "b(1)= 100"
      ],
      "metadata": {
        "colab": {
          "base_uri": "https://localhost:8080/",
          "height": 106
        },
        "id": "WjR8U16ZvSdb",
        "outputId": "6363f7f6-5798-4f1f-a343-17ba8b2953eb"
      },
      "execution_count": 38,
      "outputs": [
        {
          "output_type": "error",
          "ename": "SyntaxError",
          "evalue": "cannot assign to function call here. Maybe you meant '==' instead of '='? (<ipython-input-38-dbf90153d6e3>, line 1)",
          "traceback": [
            "\u001b[0;36m  File \u001b[0;32m\"<ipython-input-38-dbf90153d6e3>\"\u001b[0;36m, line \u001b[0;32m1\u001b[0m\n\u001b[0;31m    b(1)= 100\u001b[0m\n\u001b[0m    ^\u001b[0m\n\u001b[0;31mSyntaxError\u001b[0m\u001b[0;31m:\u001b[0m cannot assign to function call here. Maybe you meant '==' instead of '='?\n"
          ]
        }
      ]
    },
    {
      "cell_type": "code",
      "source": [
        "#question 7\n",
        "num1 = int(input(\"Enter First Number: \"))\n",
        "num2 = int(input(\"Enter Second Number: \"))\n",
        "\n",
        "print(\"Enter which operation would you like to perform?\")\n",
        "ch = input(\"Enter any of these char for specific operation +,-,*,/: \")\n",
        "\n",
        "result = 0\n",
        "if ch == '+':\n",
        "    result = num1 + num2\n",
        "elif ch == '-':\n",
        "    result = num1 - num2\n",
        "elif ch == '*':\n",
        "    result = num1 * num2\n",
        "elif ch == '/':\n",
        "    result = num1 / num2\n",
        "else:\n",
        "    print(\"Input character is not recognized!\")\n",
        "\n",
        "print(num1, ch , num2, \":\", result)"
      ],
      "metadata": {
        "colab": {
          "base_uri": "https://localhost:8080/"
        },
        "id": "Or8Osn6-vWua",
        "outputId": "2b4d9446-7694-431f-e18d-f5dcef95d759"
      },
      "execution_count": 41,
      "outputs": [
        {
          "output_type": "stream",
          "name": "stdout",
          "text": [
            "Enter First Number: 5\n",
            "Enter Second Number: 5\n",
            "Enter which operation would you like to perform?\n",
            "Enter any of these char for specific operation +,-,*,/: *\n",
            "5 * 5 : 25\n"
          ]
        }
      ]
    },
    {
      "cell_type": "code",
      "source": [
        "#question 8\n",
        "a = True\n",
        "b = False\n",
        "a and b"
      ],
      "metadata": {
        "colab": {
          "base_uri": "https://localhost:8080/"
        },
        "id": "ZWWYf-Z6wFc4",
        "outputId": "ecbde31c-6b41-42ff-cd43-9865a38a3cb2"
      },
      "execution_count": 43,
      "outputs": [
        {
          "output_type": "execute_result",
          "data": {
            "text/plain": [
              "False"
            ]
          },
          "metadata": {},
          "execution_count": 43
        }
      ]
    },
    {
      "cell_type": "code",
      "source": [
        "a or b"
      ],
      "metadata": {
        "colab": {
          "base_uri": "https://localhost:8080/"
        },
        "id": "rjFftnOnwn3y",
        "outputId": "4f170e42-86e5-42dd-f4ad-6fc27fc3975e"
      },
      "execution_count": 44,
      "outputs": [
        {
          "output_type": "execute_result",
          "data": {
            "text/plain": [
              "True"
            ]
          },
          "metadata": {},
          "execution_count": 44
        }
      ]
    },
    {
      "cell_type": "code",
      "source": [
        "#question 9\n",
        "a = \"Ram\"\n",
        "print(\"In which want to change the String:\")\n",
        "ch = input(\"Int , Bool , Float\")\n",
        "\n",
        "if ch == \"Int\":\n",
        "  result = int(a)\n",
        "  print(result)\n",
        "elif ch == \"Bool\":\n",
        "  result = bool(a)\n",
        "  print(result)\n",
        "elif ch == \"Float\":\n",
        "  result = float(a)\n",
        "  print(\"your result:\",result)\n",
        "else:\n",
        "  print(\"Input character is not recognized!\")\n",
        ""
      ],
      "metadata": {
        "colab": {
          "base_uri": "https://localhost:8080/",
          "height": 245
        },
        "id": "mmjLiXfywt2f",
        "outputId": "81801fe5-9b30-46cc-eaa5-c5b37e7d978b"
      },
      "execution_count": 48,
      "outputs": [
        {
          "name": "stdout",
          "output_type": "stream",
          "text": [
            "In which want to change the String:\n",
            "Int , Bool , FloatFloat\n"
          ]
        },
        {
          "output_type": "error",
          "ename": "ValueError",
          "evalue": "could not convert string to float: 'Ram'",
          "traceback": [
            "\u001b[0;31m---------------------------------------------------------------------------\u001b[0m",
            "\u001b[0;31mValueError\u001b[0m                                Traceback (most recent call last)",
            "\u001b[0;32m<ipython-input-48-969da69782a7>\u001b[0m in \u001b[0;36m<cell line: 0>\u001b[0;34m()\u001b[0m\n\u001b[1;32m     11\u001b[0m   \u001b[0mprint\u001b[0m\u001b[0;34m(\u001b[0m\u001b[0mresult\u001b[0m\u001b[0;34m)\u001b[0m\u001b[0;34m\u001b[0m\u001b[0;34m\u001b[0m\u001b[0m\n\u001b[1;32m     12\u001b[0m \u001b[0;32melif\u001b[0m \u001b[0mch\u001b[0m \u001b[0;34m==\u001b[0m \u001b[0;34m\"Float\"\u001b[0m\u001b[0;34m:\u001b[0m\u001b[0;34m\u001b[0m\u001b[0;34m\u001b[0m\u001b[0m\n\u001b[0;32m---> 13\u001b[0;31m   \u001b[0mresult\u001b[0m \u001b[0;34m=\u001b[0m \u001b[0mfloat\u001b[0m\u001b[0;34m(\u001b[0m\u001b[0ma\u001b[0m\u001b[0;34m)\u001b[0m\u001b[0;34m\u001b[0m\u001b[0;34m\u001b[0m\u001b[0m\n\u001b[0m\u001b[1;32m     14\u001b[0m   \u001b[0mprint\u001b[0m\u001b[0;34m(\u001b[0m\u001b[0;34m\"your result:\"\u001b[0m\u001b[0;34m,\u001b[0m\u001b[0mresult\u001b[0m\u001b[0;34m)\u001b[0m\u001b[0;34m\u001b[0m\u001b[0;34m\u001b[0m\u001b[0m\n\u001b[1;32m     15\u001b[0m \u001b[0;32melse\u001b[0m\u001b[0;34m:\u001b[0m\u001b[0;34m\u001b[0m\u001b[0;34m\u001b[0m\u001b[0m\n",
            "\u001b[0;31mValueError\u001b[0m: could not convert string to float: 'Ram'"
          ]
        }
      ]
    },
    {
      "cell_type": "code",
      "source": [
        "#question 10\n",
        "a = [1,2,3,\"Ram\"]\n",
        "a\n"
      ],
      "metadata": {
        "colab": {
          "base_uri": "https://localhost:8080/"
        },
        "id": "_B79i1PVzBgQ",
        "outputId": "2989b681-a9c0-4657-dbde-b8c50225a60a"
      },
      "execution_count": 49,
      "outputs": [
        {
          "output_type": "execute_result",
          "data": {
            "text/plain": [
              "[1, 2, 3, 'Ram']"
            ]
          },
          "metadata": {},
          "execution_count": 49
        }
      ]
    },
    {
      "cell_type": "code",
      "source": [
        "a[0]"
      ],
      "metadata": {
        "colab": {
          "base_uri": "https://localhost:8080/"
        },
        "id": "bA1501mUzYRH",
        "outputId": "6172b4c4-5da1-470a-92e1-92b8c5f21e76"
      },
      "execution_count": 50,
      "outputs": [
        {
          "output_type": "execute_result",
          "data": {
            "text/plain": [
              "1"
            ]
          },
          "metadata": {},
          "execution_count": 50
        }
      ]
    },
    {
      "cell_type": "code",
      "source": [
        "a[0]= 1000\n",
        "a"
      ],
      "metadata": {
        "colab": {
          "base_uri": "https://localhost:8080/"
        },
        "id": "neu_ECIFzc1u",
        "outputId": "534d64e1-d40f-4c24-ddf8-460845a8bbdb"
      },
      "execution_count": 52,
      "outputs": [
        {
          "output_type": "execute_result",
          "data": {
            "text/plain": [
              "[1000, 2, 3, 'Ram']"
            ]
          },
          "metadata": {},
          "execution_count": 52
        }
      ]
    },
    {
      "cell_type": "code",
      "source": [
        "#question 11\n",
        "num=float(input(\"Enter a number: \"))\n",
        "if num >= 0:\n",
        "    if num == 0:\n",
        "        print(\"Zero\")\n",
        "    else:\n",
        "        print(\"Positive number\")\n",
        "else:\n",
        "    print(\"Negative number\")"
      ],
      "metadata": {
        "colab": {
          "base_uri": "https://localhost:8080/"
        },
        "id": "ym02JGi5zk3R",
        "outputId": "1f276119-d42d-4dfd-b7f0-c6127860d531"
      },
      "execution_count": 53,
      "outputs": [
        {
          "output_type": "stream",
          "name": "stdout",
          "text": [
            "Enter a number: -56\n",
            "Negative number\n"
          ]
        }
      ]
    },
    {
      "cell_type": "code",
      "source": [
        "#question 12\n",
        "for i in range(1, 11):\n",
        "    print(i)\n"
      ],
      "metadata": {
        "colab": {
          "base_uri": "https://localhost:8080/"
        },
        "id": "OWzs2y4Sz6bF",
        "outputId": "9d2d1c75-f0fd-4fe7-83a8-0ed217a4e889"
      },
      "execution_count": 54,
      "outputs": [
        {
          "output_type": "stream",
          "name": "stdout",
          "text": [
            "1\n",
            "2\n",
            "3\n",
            "4\n",
            "5\n",
            "6\n",
            "7\n",
            "8\n",
            "9\n",
            "10\n"
          ]
        }
      ]
    },
    {
      "cell_type": "code",
      "source": [
        "#question 13\n",
        "# Initialize the sum variable\n",
        "sum_of_evens = 0\n",
        "\n",
        "# Loop through numbers from 1 to 50\n",
        "for number in range(1, 51):\n",
        "    # Check if the number is even\n",
        "    if number % 2 == 0:\n",
        "        # Add the even number to the sum\n",
        "        sum_of_evens += number\n",
        "\n",
        "# Print the result\n",
        "print(\"The sum of all even numbers between 1 and 50 is:\", sum_of_evens)\n"
      ],
      "metadata": {
        "colab": {
          "base_uri": "https://localhost:8080/"
        },
        "id": "ouWi3vx40KNY",
        "outputId": "e7b3df54-416a-4983-add4-bce64d8b4544"
      },
      "execution_count": 55,
      "outputs": [
        {
          "output_type": "stream",
          "name": "stdout",
          "text": [
            "The sum of all even numbers between 1 and 50 is: 650\n"
          ]
        }
      ]
    },
    {
      "cell_type": "code",
      "source": [
        "#question 14\n",
        "string = 'Pw skills'\n",
        "\n",
        "# find reverse of string\n",
        "i = string\n",
        "reverse = ''\n",
        "while(len(i) > 0):\n",
        "   if(len(i) > 0):\n",
        "      a = i[-1]\n",
        "      i = i[:-1]\n",
        "      reverse += a\n",
        "\n",
        "# print reverse of string\n",
        "print('The reverse string is', reverse)"
      ],
      "metadata": {
        "colab": {
          "base_uri": "https://localhost:8080/"
        },
        "id": "dg2mpF6v0QbT",
        "outputId": "8d8f845f-1133-4410-e808-836fcbdc1512"
      },
      "execution_count": 57,
      "outputs": [
        {
          "output_type": "stream",
          "name": "stdout",
          "text": [
            "The reverse string is slliks wP\n"
          ]
        }
      ]
    },
    {
      "cell_type": "code",
      "source": [
        "#question 15\n",
        "# Function to calculate factorial using a while loop\n",
        "def factorial(n):\n",
        "    result = 1\n",
        "    while n > 0:\n",
        "        result *= n\n",
        "        n -= 1\n",
        "    return result\n",
        "\n",
        "# Main program\n",
        "try:\n",
        "    number = int(input(\"Enter a number to calculate its factorial: \"))\n",
        "    if number < 0:\n",
        "        print(\"Factorial is not defined for negative numbers.\")\n",
        "    else:\n",
        "        print(f\"The factorial of {number} is {factorial(number)}.\")\n",
        "except ValueError:\n",
        "    print(\"Please enter a valid integer.\")\n"
      ],
      "metadata": {
        "colab": {
          "base_uri": "https://localhost:8080/"
        },
        "id": "9zP9ghuG1L6W",
        "outputId": "bae86af8-8504-416d-cc99-513e9e8e5e95"
      },
      "execution_count": 58,
      "outputs": [
        {
          "output_type": "stream",
          "name": "stdout",
          "text": [
            "Enter a number to calculate its factorial: 12\n",
            "The factorial of 12 is 479001600.\n"
          ]
        }
      ]
    },
    {
      "cell_type": "markdown",
      "source": [],
      "metadata": {
        "id": "A9PTMYgMcoM8"
      }
    }
  ]
}